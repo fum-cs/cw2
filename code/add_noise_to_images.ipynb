{
  "cells": [
    {
      "cell_type": "markdown",
      "metadata": {
        "id": "Aaj5gE-QbBWR"
      },
      "source": [
        "M. Amintoosi\n",
        "## برنامه اضافه کردن نویز به تصاویر\n",
        "\n",
        "اگر در گوکل کولب اجرا می‌کنید، دو دستور زیر در حالت توضیح نباشند."
      ]
    },
    {
      "cell_type": "code",
      "execution_count": null,
      "metadata": {
        "colab": {
          "base_uri": "https://localhost:8080/"
        },
        "id": "xGEVTyYpbBWW",
        "outputId": "8ea643b3-0a28-4e52-de1a-5ee56138c626"
      },
      "outputs": [],
      "source": [
        "!git clone https://github.com/fum-cs/cw2.git\n",
        "%cd cw2/code"
      ]
    },
    {
      "cell_type": "code",
      "execution_count": null,
      "metadata": {
        "id": "pvxdNIzjc6bE"
      },
      "outputs": [],
      "source": [
        "import os\n",
        "import numpy as np\n",
        "from sklearn.cluster import KMeans\n",
        "import matplotlib.pyplot as plt\n",
        "from skimage.color import rgb2hsv\n",
        "from skimage.color import rgb2lab\n",
        "from skimage import transform, io\n",
        "from skimage.util import random_noise\n",
        "\n",
        "folder = \"images\"\n",
        "\n",
        "images = []\n",
        "for filename in os.listdir(folder):\n",
        "    if filename.endswith(\".jpg\"):\n",
        "        # img = Image.open(os.path.join(folder, filename))\n",
        "        img = io.imread(os.path.join(folder, filename))\n",
        "        # img = np.array(img)\n",
        "        images.append(img)"
      ]
    },
    {
      "cell_type": "code",
      "execution_count": null,
      "metadata": {
        "colab": {
          "base_uri": "https://localhost:8080/"
        },
        "id": "VbeMUbUeecK4",
        "outputId": "6d05cd30-f30b-4191-b1b5-238babce79db"
      },
      "outputs": [],
      "source": [
        "n = len(images)\n",
        "fig, ax = plt.subplots(nrows=9, ncols=2, figsize=(5, 15),\n",
        "                       sharex=True, sharey=True)\n",
        "for i in range(n):\n",
        "    ax[i, 0].imshow(images[i])\n",
        "    ax[i, 0].axis('off')\n",
        "    ax[i, 0].set_title('Original Image')\n",
        "    sigma = 0.05\n",
        "    noisy = random_noise(images[i], var=sigma**2)\n",
        "    \n",
        "    ax[i, 1].imshow(noisy)\n",
        "    ax[i, 1].axis('off')\n",
        "    ax[i, 1].set_title('Noisy')\n",
        "\n",
        "fig.tight_layout()\n",
        "plt.show()"
      ]
    }
  ],
  "metadata": {
    "colab": {
      "provenance": []
    },
    "kernelspec": {
      "display_name": "p310",
      "language": "python",
      "name": "python3"
    },
    "language_info": {
      "codemirror_mode": {
        "name": "ipython",
        "version": 3
      },
      "file_extension": ".py",
      "mimetype": "text/x-python",
      "name": "python",
      "nbconvert_exporter": "python",
      "pygments_lexer": "ipython3",
      "version": "3.10.12"
    }
  },
  "nbformat": 4,
  "nbformat_minor": 0
}
