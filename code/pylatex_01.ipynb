{
 "cells": [
  {
   "cell_type": "code",
   "execution_count": 14,
   "metadata": {},
   "outputs": [],
   "source": [
    "from pylatex import Document, Package, Command, NoEscape, Section, Table, Center, Tabular, Figure, Label\n",
    "import numpy as np\n",
    "import matplotlib.pyplot as plt\n",
    "import os\n",
    "from skimage import io\n",
    "from skimage.util import random_noise\n",
    "\n",
    "time = np.arange(0, 10, 0.001)\n",
    "frequency = 0.2\n",
    "y1 = np.sin(2*np.pi*frequency*time)\n",
    "y2 = np.cos(2*np.pi*frequency*time)\n",
    "\n",
    "HOME_FOLDER = os.path.join('./', 'outputs')\n",
    "texFileName = os.path.join('./', 'test')\n",
    "\n",
    "plt.figure()\n",
    "plt.plot(time, y1)\n",
    "plt.savefig(os.path.join(HOME_FOLDER, 'firstParam.pdf'))\n",
    "plt.close()\n",
    "\n",
    "plt.figure()\n",
    "plt.plot(time, y2)\n",
    "plt.savefig(os.path.join(HOME_FOLDER, 'secondParam.pdf'))\n",
    "plt.close()\n",
    "\n",
    "geometry_options = {\"top\": \"2.5cm\", \"left\": \"2.25cm\", \"right\": \"2.25cm\", \"bottom\": \"2.0cm\"}\n",
    "\n",
    "doc = Document(texFileName, documentclass=\"article\", document_options=[\"12pt\", \"a4paper\"], geometry_options=geometry_options)\n",
    "\n",
    "doc.packages.append(Package('xcolor', 'table'))\n",
    "doc.packages.append(Package(\"caption\", \"font=normalsize, tableposition=below\"))\n",
    "doc.preamble.append(Command('captionsetup', 'skip=1em', 'longtable'))\n",
    "doc.packages.append(Package('fancyhdr'))\n",
    "doc.preamble.append(Command('pagestyle', 'fancy'))\n",
    "doc.preamble.append(Command('fancyhead', '', 'R'))\n",
    "doc.packages.append(Package('titlesec'))\n",
    "doc.preamble.append(Command('setcounter', 'secnumdepth', extra_arguments='4'))\n",
    "\n",
    "doc.packages.append(Package(NoEscape('eso-pic')))\n",
    "doc.packages.append(Package('adjustbox'))\n",
    "doc.packages.append(Package('float'))\n",
    "doc.packages.append(Package('pdfpages'))\n",
    "doc.packages.append(Package('array'))\n",
    "doc.packages.append(Package('hyperref', 'hidelinks'))\n",
    "\n",
    "paramsList = ['firstParam', 'secondParam']\n",
    "\n",
    "with doc.create(Section(\"First Section\")):\n",
    "\n",
    "    with doc.create(Table(position='ht')) as table:\n",
    "        with table.create(Center()) as centered:\n",
    "            with centered.create(Tabular('|l|c|c|')) as tabular:\n",
    "                tabular.add_hline()\n",
    "                for j, param in enumerate(paramsList):\n",
    "                    tabular.add_row('P' + str(j), param, NoEscape('Fig. \\\\ref{fig:param' + str(j)+'}'))\n",
    "                    tabular.add_hline()    \n",
    "            table.add_caption('List of Parameters')\n",
    "\n",
    "    for j, param in enumerate(paramsList):        \n",
    "        with doc.create(Figure(position='H')) as plot:\n",
    "            plot.add_image(os.path.join(HOME_FOLDER, param + '.pdf'))\n",
    "            plot.add_caption(param)\n",
    "            plot.append(Label('fig:param' + str(j)))\n",
    "\n",
    "with doc.create(Section(\"Second Section\")):\n",
    "\n",
    "    with doc.create(Table(position='ht')) as table:\n",
    "        with table.create(Center()) as centered:\n",
    "            with centered.create(Tabular('|c|c|')) as tabular:\n",
    "                tabular.add_hline()\n",
    "                folder = \"images\"\n",
    "                for filename in os.listdir(folder):\n",
    "                    if filename.endswith(\".jpg\"):\n",
    "                        img = io.imread(os.path.join(folder, filename))\n",
    "                        sigma = 0.155\n",
    "                        noise_folder = int(sigma*1000)\n",
    "                        noisy = random_noise(img, var=sigma**2)\n",
    "                        noisy_images_path = os.path.join('outputs/155/',filename)                        \n",
    "                        io.imsave(noisy_images_path,(noisy * 255).astype(np.uint8))\n",
    "\n",
    "                        tabular.add_row(NoEscape('\\includegraphics[width=0.3\\\\textwidth]{'+filename+'}'),\n",
    "                                        NoEscape('\\includegraphics[width=0.3\\\\textwidth]{'+noisy_images_path+'}'))\n",
    "                        tabular.add_hline()    \n",
    "            table.add_caption('List of Parameters')\n",
    "\n",
    "doc.generate_tex()\n",
    "# buildInfo = None\n",
    "# doc.generate_pdf(texFileName, clean_tex=False)"
   ]
  },
  {
   "cell_type": "code",
   "execution_count": 7,
   "metadata": {},
   "outputs": [
    {
     "data": {
      "text/plain": [
       "'outputs/155/flower1.jpg'"
      ]
     },
     "execution_count": 7,
     "metadata": {},
     "output_type": "execute_result"
    }
   ],
   "source": [
    "noisy_images_path"
   ]
  },
  {
   "cell_type": "code",
   "execution_count": 9,
   "metadata": {},
   "outputs": [],
   "source": [
    "# noisy"
   ]
  }
 ],
 "metadata": {
  "kernelspec": {
   "display_name": "tf2",
   "language": "python",
   "name": "python3"
  },
  "language_info": {
   "codemirror_mode": {
    "name": "ipython",
    "version": 3
   },
   "file_extension": ".py",
   "mimetype": "text/x-python",
   "name": "python",
   "nbconvert_exporter": "python",
   "pygments_lexer": "ipython3",
   "version": "3.10.12"
  }
 },
 "nbformat": 4,
 "nbformat_minor": 2
}
